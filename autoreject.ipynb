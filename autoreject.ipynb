{
 "cells": [
  {
   "cell_type": "code",
   "execution_count": 1,
   "id": "b78ac7dd",
   "metadata": {},
   "outputs": [
    {
     "name": "stdout",
     "output_type": "stream",
     "text": [
      "Extracting EDF parameters from c:\\Users\\gmoha\\Downloads\\git\\EEG_preprocess\\Data\\A_317_Def_PZ.bdf...\n",
      "BDF file detected\n",
      "Setting channel info structure...\n",
      "Creating raw.info structure...\n",
      "Reading 0 ... 453119  =      0.000 ...   884.998 secs...\n",
      "Trigger channel Status has a non-zero initial value of 65536 (consider using initial_event=True to detect this event)\n",
      "Removing orphaned offset at the beginning of the file.\n",
      "108 events found on stim channel Status\n",
      "Event IDs: [1 2]\n",
      "Not setting metadata\n",
      "108 matching events found\n"
     ]
    },
    {
     "name": "stderr",
     "output_type": "stream",
     "text": [
      "c:\\Users\\gmoha\\Downloads\\git\\EEG_preprocess\\functions.py:53: FutureWarning: The 'delim_whitespace' keyword in pd.read_csv is deprecated and will be removed in a future version. Use ``sep='\\s+'`` instead\n",
      "  xyz_data = pd.read_csv(ch_location_path, delim_whitespace=True, skiprows=1, header=None)\n"
     ]
    },
    {
     "name": "stdout",
     "output_type": "stream",
     "text": [
      "Setting baseline interval to [-0.5, 0.0] s\n",
      "Applying baseline correction (mode: mean)\n",
      "0 projection items activated\n",
      "Using data from preloaded Raw for 108 events and 359 original time points ...\n",
      "0 bad epochs dropped\n"
     ]
    },
    {
     "name": "stderr",
     "output_type": "stream",
     "text": [
      "c:\\Users\\gmoha\\Downloads\\git\\EEG_preprocess\\functions.py:87: RuntimeWarning: filter_length (3381) is longer than the signal (359), distortion is likely. Reduce filter length or filter a longer signal.\n",
      "  bridged_idx, ed_matrix  = compute_bridged_electrodes( epochs, lm_cutoff = lm_cutoff, epoch_threshold= epoch_threshold)\n"
     ]
    },
    {
     "name": "stdout",
     "output_type": "stream",
     "text": [
      "Local minimum 0.8920519772935335 found\n",
      "Bridge detected between D6 and D7\n",
      "Filtering raw data in 1 contiguous segment\n",
      "Setting up band-stop filter\n",
      "\n",
      "FIR filter parameters\n",
      "---------------------\n",
      "Designing a one-pass, zero-phase, non-causal bandstop filter:\n",
      "- Windowed time-domain design (firwin) method\n",
      "- Hamming window with 0.0194 passband ripple and 53 dB stopband attenuation\n",
      "- Lower transition bandwidth: 0.50 Hz\n",
      "- Upper transition bandwidth: 0.50 Hz\n",
      "- Filter length: 3381 samples (6.604 s)\n",
      "\n"
     ]
    },
    {
     "name": "stderr",
     "output_type": "stream",
     "text": [
      "[Parallel(n_jobs=1)]: Done  17 tasks      | elapsed:    0.1s\n",
      "[Parallel(n_jobs=1)]: Done  71 tasks      | elapsed:    0.8s\n"
     ]
    },
    {
     "name": "stdout",
     "output_type": "stream",
     "text": [
      "Filtering raw data in 1 contiguous segment\n",
      "Setting up band-pass filter from 1 - 30 Hz\n",
      "\n",
      "FIR filter parameters\n",
      "---------------------\n",
      "Designing a one-pass, zero-phase, non-causal bandpass filter:\n",
      "- Windowed time-domain design (firwin) method\n",
      "- Hamming window with 0.0194 passband ripple and 53 dB stopband attenuation\n",
      "- Lower passband edge: 1.00\n",
      "- Lower transition bandwidth: 1.00 Hz (-6 dB cutoff frequency: 0.50 Hz)\n",
      "- Upper passband edge: 30.00 Hz\n",
      "- Upper transition bandwidth: 7.50 Hz (-6 dB cutoff frequency: 33.75 Hz)\n",
      "- Filter length: 1691 samples (3.303 s)\n",
      "\n"
     ]
    },
    {
     "name": "stderr",
     "output_type": "stream",
     "text": [
      "[Parallel(n_jobs=1)]: Done  17 tasks      | elapsed:    0.2s\n",
      "[Parallel(n_jobs=1)]: Done  71 tasks      | elapsed:    0.9s\n"
     ]
    },
    {
     "name": "stdout",
     "output_type": "stream",
     "text": [
      "Trigger channel Status has a non-zero initial value of 65536 (consider using initial_event=True to detect this event)\n",
      "Removing orphaned offset at the beginning of the file.\n",
      "108 events found on stim channel Status\n",
      "Event IDs: [1 2]\n",
      "Not setting metadata\n",
      "108 matching events found\n",
      "No baseline correction applied\n",
      "0 projection items activated\n",
      "Using data from preloaded Raw for 108 events and 1230 original time points ...\n",
      "0 bad epochs dropped\n",
      "Reading c:\\Users\\gmoha\\Downloads\\git\\EEG_preprocess\\Data\\S317_ica_infomax.fif ...\n",
      "Now restoring ICA solution ...\n",
      "Ready.\n",
      "Applying ICA to Epochs instance\n",
      "    Transforming to ICA space (125 components)\n"
     ]
    },
    {
     "name": "stderr",
     "output_type": "stream",
     "text": [
      "C:\\Users\\gmoha\\AppData\\Local\\Temp\\ipykernel_824\\825972434.py:36: RuntimeWarning: This filename (c:\\Users\\gmoha\\Downloads\\git\\EEG_preprocess\\Data\\S317_ica_infomax.fif) does not conform to MNE naming conventions. All ICA files should end with -ica.fif, -ica.fif.gz, _ica.fif or _ica.fif.gz\n",
      "  ica = mne.preprocessing.read_ica(path_ic)\n"
     ]
    },
    {
     "name": "stdout",
     "output_type": "stream",
     "text": [
      "    Zeroing out 1 ICA component\n",
      "    Projecting back using 125 PCA components\n",
      "Applying baseline correction (mode: mean)\n",
      "Not setting metadata\n",
      "108 matching events found\n",
      "No baseline correction applied\n",
      "0 projection items activated\n",
      "Setting channel interpolation method to {'eeg': 'spline'}.\n",
      "Interpolating bad channels.\n",
      "    Automatic origin fit: head of radius 94.6 mm\n",
      "Computing interpolation matrix from 127 sensor positions\n",
      "Interpolating 2 sensors\n",
      "Setting channel interpolation method to {'eeg': 'spline'}.\n",
      "Interpolating bad channels.\n",
      "    Automatic origin fit: head of radius 94.6 mm\n",
      "Computing interpolation matrix from 125 sensor positions\n",
      "Interpolating 3 sensors\n"
     ]
    }
   ],
   "source": [
    "from functions import load_data, epoching , bridged_channels, segment_stimRt\n",
    "import sys\n",
    "import os\n",
    "import numpy as np\n",
    "import mne\n",
    "import pickle\n",
    "from config import data_dir\n",
    "\n",
    "subject_id = 317\n",
    "\n",
    "# load the selected bad channels, trials and components\n",
    "with open(os.path.join( data_dir, 'BadTrialsChannel_manualDetected.pkl'), \"rb\") as f:\n",
    "    all_bads = pickle.load(f)\n",
    "bads_channel= all_bads[subject_id]['channel_names']\n",
    "bad_trials= all_bads[subject_id]['trial_numbers']\n",
    "noisy_components = all_bads[subject_id]['noisy_components']\n",
    "\n",
    "# load raw data\n",
    "raw = load_data(subject_id)\n",
    "\n",
    "# Get bridged channels\n",
    "epochs_unicity = epoching(subject_id, raw, stim  = 'unicity_point' , tmin = -0.5, tmax = 0.2) # a random epoch just for computing the bridged channels\n",
    "bridged_idx, ed_matrix, bridged_ch_names = bridged_channels(epochs_unicity,   lm_cutoff = 5, epoch_threshold=0.5)\n",
    "\n",
    "# 1. remove noisy channels\n",
    "raw.info['bads'] = bads_channel\n",
    "\n",
    "# 2. Filter the data\n",
    "raw.notch_filter([50,100], fir_design='firwin', skip_by_annotation='edge')\n",
    "raw.filter(l_freq=1, h_freq= 30)\n",
    "# 3. epoch to definition onset ( also you can epoch to unicity point)\n",
    "epochs_defOnset = epoching(subject_id, raw, stim='onset_definition', tmin=-0.4, tmax=2, baseline=(None))\n",
    "\n",
    "# 4. remove noisy components\n",
    "path_ic = os.path.join(data_dir, f'S{subject_id}_ica_infomax.fif')\n",
    "ica = mne.preprocessing.read_ica(path_ic)\n",
    "ica.exclude = noisy_components\n",
    "ica.apply(epochs_defOnset, exclude=noisy_components)\n",
    "\n",
    "# 5. baseline correction after ICA removal\n",
    "epochs_defOnset.apply_baseline(baseline=(None, 0))  # baseline correction\n",
    "\n",
    "# 6. interpolate bridged channels and bad channels\n",
    "epochs_defOnset = mne.preprocessing.interpolate_bridged_electrodes(epochs_defOnset, bridged_idx, bad_limit=4) \n",
    "epochs_defOnset = epochs_defOnset.interpolate_bads()  # interpolate bad channels\n",
    "# # 7. re-reference to average\n",
    "# epochs_defOnset.set_eeg_reference(ref_channels='average')  # re-reference to average\n",
    "\n",
    "# fig = epochs_defOnset.average().plot_joint( title='ERP after ica removal', ts_args=dict(time_unit='s'), topomap_args=dict(time_unit='s'), show = False)"
   ]
  },
  {
   "cell_type": "code",
   "execution_count": null,
   "id": "91586bc0",
   "metadata": {},
   "outputs": [],
   "source": [
    "import autoreject"
   ]
  }
 ],
 "metadata": {
  "kernelspec": {
   "display_name": "BCLenv",
   "language": "python",
   "name": "python3"
  },
  "language_info": {
   "codemirror_mode": {
    "name": "ipython",
    "version": 3
   },
   "file_extension": ".py",
   "mimetype": "text/x-python",
   "name": "python",
   "nbconvert_exporter": "python",
   "pygments_lexer": "ipython3",
   "version": "3.10.16"
  }
 },
 "nbformat": 4,
 "nbformat_minor": 5
}
