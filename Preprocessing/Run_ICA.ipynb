{
 "cells": [
  {
   "cell_type": "markdown",
   "id": "04eaf964",
   "metadata": {},
   "source": [
    "# Run ICA \n",
    "\n",
    "In this notebook we will run ICA for a list of subject ids and save the results \n",
    "This ICA will be used to remove blink artifacts"
   ]
  },
  {
   "cell_type": "code",
   "execution_count": null,
   "id": "61bc5f99",
   "metadata": {},
   "outputs": [],
   "source": [
    "import numpy as np\n",
    "ids = np.arange(306, 320).tolist()  \n",
    "def compute_ica(ids):\n",
    "    import sys\n",
    "    import os\n",
    "    import mne\n",
    "    import pickle\n",
    "    # Add the workspace root to the Python path\n",
    "    from preprocess import preprocess\n",
    "    sys.path.append(os.path.abspath(os.path.join(os.getcwd(), \"..\")))# Add the parent directory to the path\n",
    "    from config import data_dir\n",
    "\n",
    "    mne.set_log_level('WARNING')  # Set MNE log level to WARNING to reduce output verbosity\n",
    "    for id in ids:\n",
    "        try:\n",
    "            print(f\"Processing subject {id}\")\n",
    "            preprocess = preprocess(data_dir, id)\n",
    "            preprocess.ICA_denoise( lowPassFilter = None, n_components=None, decim=2, ica_name = 'ica_infomax', overwrite = False)\n",
    "        except Exception as e:\n",
    "            print(f\"Error processing subject {id}: {e}\")\n",
    "            continue\n",
    "        # del cache\n",
    "\n",
    "    return \n",
    "\n",
    "# submit with submitit one job \n",
    "from submitit import AutoExecutor\n",
    "executor = AutoExecutor(folder=\"logdir\")\n",
    "executor.update_parameters(cpus_per_task=7,  mem_gb=30,  timeout_min=600)\n",
    "job = executor.submit(compute_ica, ids)\n"
   ]
  },
  {
   "cell_type": "code",
   "execution_count": null,
   "id": "dc103038",
   "metadata": {},
   "outputs": [],
   "source": [
    "BAD_subjects = {'id': [301,302,304],\n",
    "                'reason': ['bidged_channels','bidged_channels', 'too_noisy_trials']}"
   ]
  }
 ],
 "metadata": {
  "kernelspec": {
   "display_name": "BCLenv",
   "language": "python",
   "name": "python3"
  },
  "language_info": {
   "codemirror_mode": {
    "name": "ipython",
    "version": 3
   },
   "file_extension": ".py",
   "mimetype": "text/x-python",
   "name": "python",
   "nbconvert_exporter": "python",
   "pygments_lexer": "ipython3",
   "version": "3.10.16"
  }
 },
 "nbformat": 4,
 "nbformat_minor": 5
}
