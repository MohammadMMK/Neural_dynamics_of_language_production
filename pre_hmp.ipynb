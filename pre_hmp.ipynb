{
 "cells": [
  {
   "cell_type": "code",
   "execution_count": 9,
   "id": "39646162",
   "metadata": {},
   "outputs": [],
   "source": [
    "from functions import pre_hmp\n",
    "import sys\n",
    "import os\n",
    "import numpy as np\n",
    "import mne\n",
    "import pickle\n",
    "from config import data_dir\n",
    "import mne\n",
    "old_adults_ids = np.arange(601, 619)\n",
    "young_adults_ids = [303, 305, 306, 307, 308, 309, 310, 311, 312, 313, 314, 315, 316, 317, 318, 319, 319]\n",
    "\n",
    "all_ids = np.concatenate((old_adults_ids, young_adults_ids))\n",
    "\n",
    "def process_young_adults(ids, overwrite = False):\n",
    "    for id in ids:\n",
    "        path_epochs = os.path.join(data_dir, f'S{id}_epochs_preHMP.fif')\n",
    "        if os.path.exists(path_epochs) and not overwrite:\n",
    "            print(f\"Skipping subject {id}, epochs file already exists.\")\n",
    "            continue\n",
    "        print(f\"Processing subject {id}\")\n",
    "        print('#################################################################################')\n",
    "        try:\n",
    "            pre_hmp(id, n_jobs= 4)\n",
    "        except Exception as e:\n",
    "            print(f\"Error processing subject {id}: {e}\")\n",
    "            continue\n",
    "\n",
    "# submit with submitit one job \n",
    "from submitit import AutoExecutor\n",
    "executor = AutoExecutor(folder=\"logdir\")\n",
    "executor.update_parameters(cpus_per_task=4,  mem_gb=14, timeout_min=600)\n",
    "job = executor.submit(process_young_adults, all_ids)\n",
    "\n",
    "\n"
   ]
  }
 ],
 "metadata": {
  "kernelspec": {
   "display_name": "BCLenv",
   "language": "python",
   "name": "python3"
  },
  "language_info": {
   "codemirror_mode": {
    "name": "ipython",
    "version": 3
   },
   "file_extension": ".py",
   "mimetype": "text/x-python",
   "name": "python",
   "nbconvert_exporter": "python",
   "pygments_lexer": "ipython3",
   "version": "3.10.18"
  }
 },
 "nbformat": 4,
 "nbformat_minor": 5
}
