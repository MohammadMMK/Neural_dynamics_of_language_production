{
 "cells": [
  {
   "cell_type": "code",
   "execution_count": null,
   "id": "39646162",
   "metadata": {},
   "outputs": [],
   "source": [
    "from functions import pre_hmp\n",
    "import sys\n",
    "import os\n",
    "import numpy as np\n",
    "import mne\n",
    "import pickle\n",
    "from config import data_dir\n",
    "import mne\n",
    "old_adults_ids = np.arange(601, 619)\n",
    "young_adults_ids = [303, 305, 306, 307, 308, 309, 310, 311, 312, 313, 314, 315, 316, 317, 318, 319, 319]\n",
    "mne.set_log_level('WARNING')\n",
    "\n",
    "for id in young_adults_ids:\n",
    "    print(f\"Processing subject {id}\")\n",
    "    try:\n",
    "        pre_hmp(id)\n",
    "    except Exception as e:\n",
    "        print(f\"Error processing subject {id}: {e}\")\n",
    "        continue\n",
    "\n",
    "\n",
    "\n"
   ]
  }
 ],
 "metadata": {
  "kernelspec": {
   "display_name": "BCLenv",
   "language": "python",
   "name": "python3"
  },
  "language_info": {
   "codemirror_mode": {
    "name": "ipython",
    "version": 3
   },
   "file_extension": ".py",
   "mimetype": "text/x-python",
   "name": "python",
   "nbconvert_exporter": "python",
   "pygments_lexer": "ipython3",
   "version": "3.10.16"
  }
 },
 "nbformat": 4,
 "nbformat_minor": 5
}
